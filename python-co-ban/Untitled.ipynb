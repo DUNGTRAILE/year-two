{
 "cells": [
  {
   "cell_type": "code",
   "execution_count": 1,
   "id": "25c04610-f5df-479b-82ab-301594b03c6f",
   "metadata": {},
   "outputs": [
    {
     "name": "stdout",
     "output_type": "stream",
     "text": [
      "than van dung\n"
     ]
    }
   ],
   "source": [
    "print('than van dung')"
   ]
  },
  {
   "cell_type": "code",
   "execution_count": 2,
   "id": "28b754ad-1fbe-4074-89a5-ed78d68534cb",
   "metadata": {},
   "outputs": [
    {
     "name": "stdout",
     "output_type": "stream",
     "text": [
      "8\n"
     ]
    }
   ],
   "source": [
    "a = 4\n",
    "b = 4\n",
    "print(a+b)"
   ]
  },
  {
   "cell_type": "code",
   "execution_count": null,
   "id": "00d31a1d-2f2a-4fa8-a099-d6a9bb679062",
   "metadata": {},
   "outputs": [],
   "source": []
  }
 ],
 "metadata": {
  "kernelspec": {
   "display_name": "Python 3 (ipykernel)",
   "language": "python",
   "name": "python3"
  },
  "language_info": {
   "codemirror_mode": {
    "name": "ipython",
    "version": 3
   },
   "file_extension": ".py",
   "mimetype": "text/x-python",
   "name": "python",
   "nbconvert_exporter": "python",
   "pygments_lexer": "ipython3",
   "version": "3.10.10"
  }
 },
 "nbformat": 4,
 "nbformat_minor": 5
}
