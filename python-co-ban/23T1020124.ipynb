{
 "cells": [
  {
   "cell_type": "markdown",
   "metadata": {},
   "source": [
    "- Viết hàm trả về từ cuối cùng của một chuỗi cho trước\n",
    "\n",
    "Ví dụ: Input: Nguyễn Văn Anh\n",
    "\n",
    "Output: Anh\n",
    "\n",
    "- Nhập vào danh sách họ tên của các sinh viên, quá trình nhập dừng khi họ tên\n",
    "nhập vào bằng rỗng. In ra màn hình số lượng sinh viên có tên là “Anh”."
   ]
  },
  {
   "cell_type": "code",
   "execution_count": null,
   "metadata": {},
   "outputs": [
    {
     "name": "stdout",
     "output_type": "stream",
     "text": [
      "dungx\n"
     ]
    }
   ],
   "source": [
    "# câu a thaan vawn dungx traij lee thaan\n",
    "def cuoi(str):\n",
    "    s = str.split()\n",
    "    return s[-1]\n",
    "\n",
    "name = input(\"nhập họ và tên:\")\n",
    "ten = cuoi(name)\n",
    "print(ten)"
   ]
  },
  {
   "cell_type": "code",
   "execution_count": 2,
   "metadata": {},
   "outputs": [
    {
     "name": "stdout",
     "output_type": "stream",
     "text": [
      "0\n"
     ]
    }
   ],
   "source": [
    "tong = 0\n",
    "while True:\n",
    "    s = list(input('nhập tên sinh viên:').split())\n",
    "    if s == []:\n",
    "        break\n",
    "    if s[-1] == 'Anh' or s[-1] == 'anh':\n",
    "        tong += 1\n",
    "    \n",
    "print(tong)"
   ]
  },
  {
   "cell_type": "markdown",
   "metadata": {},
   "source": [
    "Câu 2.\n",
    "- Viết một chương trình tìm tất cả các số trong đoạn 1000 và 2023 (tính cả 2 số\n",
    "này) sao cho tất cả các chữ số trong số đó là số chẵn. In các số tìm được thành\n",
    "chuỗi cách nhau bởi dấu phẩy.\n",
    "- Viết chương trình Python để in một từ điển trong đó các khóa là các số từ 1 đến\n",
    "20 (bao gồm cả hai) và các giá trị là căn bậc hai của các khóa."
   ]
  },
  {
   "cell_type": "code",
   "execution_count": null,
   "metadata": {},
   "outputs": [
    {
     "ename": "",
     "evalue": "",
     "output_type": "error",
     "traceback": [
      "\u001b[1;31mRunning cells with 'Python 3.12.3' requires the ipykernel package.\n",
      "\u001b[1;31mRun the following command to install 'ipykernel' into the Python environment. \n",
      "\u001b[1;31mCommand: '/bin/python3.12 -m pip install ipykernel -U --user --force-reinstall'"
     ]
    }
   ],
   "source": [
    "s = [str(i) for i in range(1000,2024,2)]\n",
    "s1 = ', '.join(s)\n",
    "print(s1)"
   ]
  },
  {
   "cell_type": "code",
   "execution_count": null,
   "metadata": {},
   "outputs": [
    {
     "ename": "",
     "evalue": "",
     "output_type": "error",
     "traceback": [
      "\u001b[1;31mRunning cells with 'Python 3.12.3' requires the ipykernel package.\n",
      "\u001b[1;31mRun the following command to install 'ipykernel' into the Python environment. \n",
      "\u001b[1;31mCommand: '/bin/python3 -m pip install ipykernel -U --user --force-reinstall'"
     ]
    }
   ],
   "source": [
    "# câu b \n",
    "import math as m\n",
    "tuDien = {i: m.sqrt(i) for i in range(1,21)}\n",
    "for key,word in tuDien.items():\n",
    "    print(f'{key}: {word}')"
   ]
  },
  {
   "cell_type": "markdown",
   "metadata": {},
   "source": [
    "Câu 3. Viết chương trình thực hiện các yêu cầu sau:\n",
    "- Sinh ngẫu nhiên 100 số nguyên trong khoảng [1,100] đưa vào list A.\n",
    "- Loại bỏ các phần tử trùng lặp trong A.\n",
    "- Tính và in ra màn hình tổng các số nguyên tố trong A."
   ]
  },
  {
   "cell_type": "code",
   "execution_count": null,
   "metadata": {},
   "outputs": [
    {
     "ename": "",
     "evalue": "",
     "output_type": "error",
     "traceback": [
      "\u001b[1;31mRunning cells with 'Python' requires the ipykernel package.\n",
      "\u001b[1;31mRun the following command to install 'ipykernel' into the Python environment. \n",
      "\u001b[1;31mCommand: '/bin/python3 -m pip install ipykernel -U --user --force-reinstall'"
     ]
    }
   ],
   "source": [
    "import random as r \n",
    "def nguyenTo (a):\n",
    "    if a <= 2:\n",
    "        return True\n",
    "    for i in range(2,a//2+1):\n",
    "        if a % i == 0:\n",
    "            return False\n",
    "    return True\n",
    "lit = [r.randint(1,100) for i in range(100)]\n",
    "litNew = list(set(lit))\n",
    "s = 0\n",
    "s += sum(x for x in litNew if nguyenTo(x))\n",
    "print(f'tônge các số nguyên tố là: {s}')\n"
   ]
  },
  {
   "cell_type": "markdown",
   "metadata": {},
   "source": [
    "Câu 4. Thông tin mỗi học phần bao gồm: mã học phần (mahp), tên học phần (tenhp), số\n",
    "tín chỉ (sotc). Sử dụng kiểu từ điển bao gồm các cặp key-value để biểu diễn các thông\n",
    "tin cho mỗi học phần như ví dụ: {“mahp”: “TIN1103”, “tenhp”, “Lập trình Python”,\n",
    "“sotc”:3}.\n",
    "Viết chương trình thực hiện các yêu cầu sau:\n",
    "- Nhập vào danh sách có n (n&lt;10) học phần.\n",
    "- In ra màn hình thông tin của các học phần thuộc ngành CNTT (mahp có 3 ký tự\n",
    "đầu là “TIN”).\n",
    "- Nhập vào một chuỗi s, in ra màn hình các học phần có tên học phần chứa chuỗi s.\n",
    "Ví dụ: Input: s= “lập trình”\n",
    "\n",
    "Output: “Lập trình nâng cao”, “Lập trình Python”,…"
   ]
  },
  {
   "cell_type": "code",
   "execution_count": null,
   "metadata": {},
   "outputs": [
    {
     "ename": "",
     "evalue": "",
     "output_type": "error",
     "traceback": [
      "\u001b[1;31mRunning cells with 'Python' requires the ipykernel package.\n",
      "\u001b[1;31mRun the following command to install 'ipykernel' into the Python environment. \n",
      "\u001b[1;31mCommand: '/bin/python3 -m pip install ipykernel -U --user --force-reinstall'"
     ]
    }
   ],
   "source": [
    "def nhapHocPhan (n):\n",
    "    s = []\n",
    "    t1 = 'mahp'\n",
    "    t2 = 'tenhp'\n",
    "    t3 = 'sotc'\n",
    "    for i in range(1,n+1):\n",
    "        ma = input(f'nhập mã học phần thứ {i}:')\n",
    "        ten = input(f'nhập tên học phần thứ {i}:')\n",
    "        tc = input(f'nhập số tín chỉ học phần thứ {i}:')\n",
    "        td = {t1:ma,t2:ten,t3:tc}\n",
    "        s.append(td)\n",
    "    return s\n",
    "\n",
    "def CNTT(tuDien):\n",
    "    for i in tuDien:\n",
    "        s = i['mahp'][:3]\n",
    "        if s =='TIN':\n",
    "            print('+',i)\n",
    "\n",
    "def timHocPhanBangChuoi(tuDien):\n",
    "    str = input('nhập chuỗi để tìm')\n",
    "    for i in tuDien:\n",
    "       if str in i['tenhp']:\n",
    "           print('+',i)     \n",
    "\n",
    "n = int(input('nhập số lượng học phần (<10):'))\n",
    "tuDien = nhapHocPhan(n)\n",
    "# print(tuDien)\n",
    "print('các học phần của khoa công nghệ thông tin:')\n",
    "CNTT(tuDien)\n",
    "print()\n",
    "print('các học phần tìm theo yêu cầu:')\n",
    "timHocPhanBangChuoi(tuDien)"
   ]
  },
  {
   "cell_type": "code",
   "execution_count": null,
   "metadata": {},
   "outputs": [],
   "source": []
  }
 ],
 "metadata": {
  "kernelspec": {
   "display_name": "Python 3",
   "language": "python",
   "name": "python3"
  },
  "language_info": {
   "codemirror_mode": {
    "name": "ipython",
    "version": 3
   },
   "file_extension": ".py",
   "mimetype": "text/x-python",
   "name": "python",
   "nbconvert_exporter": "python",
   "pygments_lexer": "ipython3",
   "version": "3.13.0"
  }
 },
 "nbformat": 4,
 "nbformat_minor": 4
}
