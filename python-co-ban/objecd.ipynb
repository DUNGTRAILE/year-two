{
 "cells": [
  {
   "cell_type": "code",
   "execution_count": null,
   "metadata": {},
   "outputs": [],
   "source": [
    "\n",
    "import math as m\n",
    "class Iris:\n",
    "    def __init__(self, cdd = 0, crd = 0,cdc = 0 , crc = 0, kh = 'None' ):\n",
    "        self.chieuDaiDai = cdd\n",
    "        self.chieuRongDai = crd\n",
    "        self.chieuDaiCanh = cdc\n",
    "        self.chieuRongCanh = crc\n",
    "        self.kieuHoa = kh\n",
    "    def setKieuHoa(self,kh):\n",
    "        self.kieuHoa = kh\n",
    "    \n",
    "    def khoangCach(self, bh):\n",
    "        kq = 0\n",
    "        tong = (self.chieuDaiDai - bh.chieuDaiDai)**2 + (self.chieuRongDai - bh.chieuRongDai)**2 + (self.chieuDaiCanh - bh.chieuDaiCanh)**2 + (self.chieuRongCanh - bh.chieuRongCanh)**2\n",
    "        kq = round(m.sqrt(tong),2)\n",
    "        return kq\n",
    "\n",
    "x = []\n",
    "\n",
    "tt = 1\n",
    "while True:\n",
    "    print(f'nhập bông hoa thứ {tt};')\n",
    "    cdd = float(input('chiều dài đài: '))\n",
    "    if cdd == 0 :break\n",
    "    crd = float(input('chiều rộng đài: '))\n",
    "    cdc = float(input('chiều dài cánh: '))\n",
    "    crc = float(input('chiều rộng cánh: '))\n",
    "    kh = input('kiểu hoa\\'nếu chưa biết loại hoa thì điền\\\"None\\\"\\': ')\n",
    "    x.append(Iris(cdd,crd,cdc,crc,kh))\n",
    "    tt += 1\n",
    "thu = Iris(7.1,28.,6.4,1.6,'None')\n",
    "kc = [(i.khoangCach(thu),i.kieuHoa) for i in x]\n",
    "kc.sort()\n",
    "luu = kc[:3]\n",
    "dem = {}\n",
    "for _ , i in luu :\n",
    "    if i in dem :\n",
    "        dem[i] += 1\n",
    "    else:\n",
    "        dem[i] = 1\n",
    "max_loai = 0\n",
    "loaiHoa = 'None'\n",
    "for key , value in dem.items():\n",
    "    if value > max_loai:\n",
    "        max_loai = value\n",
    "        loaiHoa = key\n",
    "\n",
    "thu.setKieuHoa(loaiHoa)\n",
    "\n",
    "print(thu.kieuHoa)\n",
    "\n",
    "\n",
    "    \n"
   ]
  },
  {
   "cell_type": "code",
   "execution_count": null,
   "metadata": {},
   "outputs": [],
   "source": [
    "print('thân văn dũng')"
   ]
  }
 ],
 "metadata": {
  "kernelspec": {
   "display_name": "Python 3",
   "language": "python",
   "name": "python3"
  },
  "language_info": {
   "name": "python",
   "version": "3.13.0"
  }
 },
 "nbformat": 4,
 "nbformat_minor": 2
}
